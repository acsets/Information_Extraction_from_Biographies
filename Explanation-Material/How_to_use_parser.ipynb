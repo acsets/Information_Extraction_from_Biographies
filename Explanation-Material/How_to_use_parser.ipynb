{
 "cells": [
  {
   "cell_type": "code",
   "execution_count": 1,
   "metadata": {},
   "outputs": [],
   "source": [
    "sent = \"王伯伯人很好，常給我糖果吃\""
   ]
  },
  {
   "cell_type": "markdown",
   "metadata": {},
   "source": [
    "# 一. Stanford Corenlp"
   ]
  },
  {
   "cell_type": "markdown",
   "metadata": {},
   "source": [
    "## 1. Phrase Structure Parsing"
   ]
  },
  {
   "cell_type": "code",
   "execution_count": 2,
   "metadata": {},
   "outputs": [],
   "source": [
    "from nltk.parse.corenlp import CoreNLPParser\n",
    "psr = CoreNLPParser()"
   ]
  },
  {
   "cell_type": "code",
   "execution_count": 3,
   "metadata": {},
   "outputs": [
    {
     "name": "stdout",
     "output_type": "stream",
     "text": [
      "                         ROOT                        \n",
      "                          |                           \n",
      "                          IP                         \n",
      "      ____________________|________                   \n",
      "     |                             VP                \n",
      "     |                 ____________|_______           \n",
      "     |                |        |           VP        \n",
      "     |                |        |    _______|___       \n",
      "     |                |        |   |           IP    \n",
      "     |                |        |   |        ___|___   \n",
      "     NP               VP       |   |       NP      | \n",
      "  ___|___         ____|___     |   |    ___|___    |  \n",
      " NP      NP     ADVP      VP   |   |   NP      NP  VP\n",
      " |    ___|___    |        |    |   |   |       |   |  \n",
      " NR  NN      NN  AD       VA   PU  VV  PN      NN  VV\n",
      " |   |       |   |        |    |   |   |       |   |  \n",
      " 王   伯伯      人   很        好    ，   常給  我       糖果  吃 \n",
      "\n"
     ]
    }
   ],
   "source": [
    "parseTree = next(psr.raw_parse(sent))\n",
    "parseTree.pretty_print()"
   ]
  },
  {
   "cell_type": "code",
   "execution_count": 4,
   "metadata": {},
   "outputs": [
    {
     "name": "stdout",
     "output_type": "stream",
     "text": [
      "(IP\n",
      "  (NP (NP (NR 王)) (NP (NN 伯伯) (NN 人)))\n",
      "  (VP\n",
      "    (VP (ADVP (AD 很)) (VP (VA 好)))\n",
      "    (PU ，)\n",
      "    (VP (VV 常給) (IP (NP (NP (PN 我)) (NP (NN 糖果))) (VP (VV 吃))))))\n",
      "-------------\n",
      "1\n",
      "-------------\n",
      "ROOT\n",
      "=============================\n",
      "     NP        \n",
      "  ___|___       \n",
      " NP      NP    \n",
      " |    ___|___   \n",
      " NR  NN      NN\n",
      " |   |       |  \n",
      " 王   伯伯      人 \n",
      "\n",
      "                  VP                \n",
      "       ___________|_______           \n",
      "      |       |           VP        \n",
      "      |       |    _______|___       \n",
      "      |       |   |           IP    \n",
      "      |       |   |        ___|___   \n",
      "      VP      |   |       NP      | \n",
      "  ____|___    |   |    ___|___    |  \n",
      "ADVP      VP  |   |   NP      NP  VP\n",
      " |        |   |   |   |       |   |  \n",
      " AD       VA  PU  VV  PN      NN  VV\n",
      " |        |   |   |   |       |   |  \n",
      " 很        好   ，   常給  我       糖果  吃 \n",
      "\n"
     ]
    }
   ],
   "source": [
    "print(parseTree[0]) # 第1個子樹, 在此是IP開頭的\n",
    "print(\"-------------\")\n",
    "print(len(parseTree)) # 幾個children\n",
    "print(\"-------------\")\n",
    "print(parseTree.label()) # root的label \n",
    "print(\"=============================\")\n",
    "for subtree in parseTree[0]:\n",
    "    subtree.pretty_print()"
   ]
  },
  {
   "cell_type": "markdown",
   "metadata": {},
   "source": [
    "## 2. Dependency Parsing"
   ]
  },
  {
   "cell_type": "code",
   "execution_count": 5,
   "metadata": {},
   "outputs": [],
   "source": [
    "from nltk.parse.corenlp import CoreNLPDependencyParser\n",
    "dpsr = CoreNLPDependencyParser()"
   ]
  },
  {
   "cell_type": "code",
   "execution_count": 6,
   "metadata": {},
   "outputs": [
    {
     "name": "stdout",
     "output_type": "stream",
     "text": [
      "(('好', 'VA'), 'nsubj', ('人', 'NN'))\n",
      "(('人', 'NN'), 'nmod:assmod', ('王', 'NR'))\n",
      "(('人', 'NN'), 'compound:nn', ('伯伯', 'NN'))\n",
      "(('好', 'VA'), 'advmod', ('很', 'AD'))\n",
      "(('好', 'VA'), 'punct', ('，', 'PU'))\n",
      "(('好', 'VA'), 'conj', ('常給', 'VV'))\n",
      "(('常給', 'VV'), 'ccomp', ('吃', 'VV'))\n",
      "(('吃', 'VV'), 'nsubj', ('糖果', 'NN'))\n",
      "(('糖果', 'NN'), 'compound:nn', ('我', 'PN'))\n"
     ]
    }
   ],
   "source": [
    "for dependency in next(dpsr.raw_parse(sent)).triples():\n",
    "    print(dependency)"
   ]
  },
  {
   "cell_type": "markdown",
   "metadata": {},
   "source": [
    "# 二. CKIP"
   ]
  },
  {
   "cell_type": "code",
   "execution_count": 7,
   "metadata": {},
   "outputs": [],
   "source": [
    "import sys\n",
    "sys.path.append(\"../Tools\") # 讓python也從這個目錄底下找module\n",
    "from ckip import *"
   ]
  },
  {
   "cell_type": "markdown",
   "metadata": {},
   "source": [
    "## 1. Tokenizing"
   ]
  },
  {
   "cell_type": "code",
   "execution_count": 8,
   "metadata": {},
   "outputs": [
    {
     "data": {
      "text/plain": [
       "{'status': 'Authentication failed', 'status_code': '3', 'result': []}"
      ]
     },
     "execution_count": 8,
     "metadata": {},
     "output_type": "execute_result"
    }
   ],
   "source": [
    "segmenter = CKIPSegmenter('YOUR ACCOUNT', 'PASSWORD')\n",
    "segmenter.process(sent)"
   ]
  },
  {
   "cell_type": "markdown",
   "metadata": {},
   "source": [
    "## 2. Phrase Structure Parsing"
   ]
  },
  {
   "cell_type": "code",
   "execution_count": 9,
   "metadata": {},
   "outputs": [
    {
     "data": {
      "text/plain": [
       "{'status': 'Authentication failed', 'status_code': '3', 'result': []}"
      ]
     },
     "execution_count": 9,
     "metadata": {},
     "output_type": "execute_result"
    }
   ],
   "source": [
    "parser = CKIPParser('YOUR USERNAME', 'YOUR PASSWORD')\n",
    "parser.process(sent)"
   ]
  },
  {
   "cell_type": "code",
   "execution_count": null,
   "metadata": {},
   "outputs": [],
   "source": []
  }
 ],
 "metadata": {
  "kernelspec": {
   "display_name": "Python 3",
   "language": "python",
   "name": "python3"
  },
  "language_info": {
   "codemirror_mode": {
    "name": "ipython",
    "version": 3
   },
   "file_extension": ".py",
   "mimetype": "text/x-python",
   "name": "python",
   "nbconvert_exporter": "python",
   "pygments_lexer": "ipython3",
   "version": "3.6.5"
  }
 },
 "nbformat": 4,
 "nbformat_minor": 2
}
