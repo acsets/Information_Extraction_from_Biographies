{
 "cells": [
  {
   "cell_type": "code",
   "execution_count": 1,
   "metadata": {},
   "outputs": [],
   "source": [
    "import re\n",
    "import math\n",
    "import sys\n",
    "sys.path.append('../Tools/ECDICT')\n",
    "from stardict import StarDict\n",
    "dic = StarDict(\"../Tools/ECDICT/ecdict_sqlite\")\n",
    "\n",
    "name = \"陳泗治\"\n",
    "text = \"\"\"\n",
    "1 9 2\n",
    "陳泗治 92（1911.04.14-1992.09.23）\n",
    "士林人。父親陳應麟為前清秀才，母親李罔。\n",
    "大正 6年（1917），進入公學校就讀。畢業\n",
    "後曾一度負笈廈門，但因適應不良而返臺就讀淡\n",
    "水中學校（今淡江中學）。淡水中學校為長老教\n",
    "會所創辦之私立中學，教師多為長老教會之宣\n",
    "教士，音樂老師加拿大籍的吳威廉牧師娘（Mrs. \n",
    "Margaret Gauld）啟蒙了陳泗治的音樂學習之\n",
    "途，開始學習西方音樂與鋼琴。由於就讀教會學\n",
    "校受到宗教薰陶，於昭和 4年（1929）在大稻埕\n",
    "長老教會受洗成為基督徒。昭和 5年（1930）進入臺北神學校（今臺灣神學\n",
    "院）就讀，昭和 6年（1931）加拿大籍的女宣教士德明利姑娘（Miss Isabel \n",
    "Taylor）來臺宣教，陳泗治便跟隨她繼續學習音樂，年紀相仿的二人發展出\n",
    "彼此終生關懷的深厚姊弟感情。\n",
    "昭和 9年（1934）赴日繼續進修神學，一方面在上野音樂學校師事作曲\n",
    "家木崗英三郎學習作曲。同年 8月與一群旅日學習音樂的留學生組成鄉土訪\n",
    "問音樂團，其擔任鋼琴伴奏，返臺於西部 7縣市巡演，造成轟動。隔年再次\n",
    "返臺參與新竹臺中大地震震災巡演。日本求學期間開始發表宗教音樂創作，\n",
    "如其畢業作品清唱劇〈上帝的羔羊〉。昭和 12年（1937）學成返臺後擔任士\n",
    "林長老教會傳道師，並持續創作。戰後，擔任臺灣文化協進會音樂委員會委\n",
    "員，並完成〈臺灣光復紀念歌〉。 93\n",
    "民國 36年（1947），擔任純德女子中學音樂教師，並和德明利姑娘\n",
    "創辦音樂科，5年後出任該校校長，帶動女子籃球隊的發展。民國 44年\n",
    "（1955），純德女子中學與淡江中學校合併為淡江中學，其被選為第 1任校\n",
    "長，擔任該職至民國 70年（1981）退休，歷時 26年，為歷任校長中任期最\n",
    "久者。在其任內，曾發起「一萬一百人捐獻運動」籌措校舍修建經費。民國\n",
    "92 照 片 來 源： 成 功 大 學 圖 書 館，http://www.lib.ncku.edu.tw/multimedia/service/review96/\n",
    "composer/1g.htm，擷取日期：2013年 1月 3日。\n",
    "93 卓甫見，《臺灣前輩作曲家―陳泗治作品研究》（臺北：大陸書店，2003），頁 13-21。\n",
    "1 9 3\n",
    "第二章　文學藝術\n",
    "55年（1966）受封為牧師。退休後赴美定居，在加州成立 Anaheim教會。曾\n",
    "組織士林協志會，與同好研習音樂、臺灣文化。\n",
    "代表作品除〈上帝的羔羊〉外，尚有合唱曲〈如鹿欣慕溪水〉（1938）、\n",
    "〈上帝愛世人〉（1958）、〈咱人生命無定著〉（1964）、〈在主內無分東西〉\n",
    "（1964）、〈讚美頌〉（1964）、〈西面頌〉（1964）、〈基督教在臺宣教百周年\n",
    "紀念歌〉（1965）、〈讚美主極大恩賜〉（1976）；鋼琴曲〈幻想曲―淡水〉\n",
    "（1938）、〈臺灣素描（鋼琴曲集）〉（1939）、〈父親與我〉（1945）、〈回憶〉\n",
    "（1947）、〈夜曲〉（1950）、〈降 D大調練習曲〉（1958）、〈龍舞〉（1958）、〈幽\n",
    "谷―阿美狂想曲〉（1978）、〈十首前奏曲 ---鍵盤上的遊戲〉（1980）；聲\n",
    "樂曲〈逝去的悲傷歲月〉（1953）；室內樂〈G大調嬉遊曲―鋼琴三重奏〉\n",
    "（1977）。94\n",
    "妻劉淡梅，為牧師劉阿秀之女，育有 1子 2女。長子信雄博士為芝加\n",
    "哥羅斯福大學（Roosevelt University）教授、曾任管弦樂系主任、該校交響\n",
    "樂團指揮，育有 1子 2女。長女伶兒為西北大學（Northwest University）\n",
    "音樂碩士，適莊徵舜醫師，育有 1子 2女。次女仁兒獲羅格斯大學（Rutgers \n",
    "University）心理學博士，為開業心理師，與美籍夫婿育有 1子 1女。95（范\n",
    "燕秋、嚴婉玲撰）\n",
    "94 卓甫見，《臺灣音樂哲人：陳泗治》（臺北：望春風，2001），頁 160。\n",
    "95 黃武東牧師撰，〈1992年 3月 17日黃武東牧師和林天明長老一起拜訪在病床的陳泗治牧師〉，\n",
    "《臺灣教會公報》2106（1992），頁 14。\n",
    "\"\"\"\n",
    "\n",
    "biography = {\n",
    "                \"Name\" : name, \n",
    "                \"Alias_s\" : [],\n",
    "                \"Category\" : \"\",\n",
    "                \"StartPage\" : -1, \n",
    "                \"EndPage\" : -1,\n",
    "                \"Authors\" : [],\n",
    "                \"Notes\" : \"\",\n",
    "                \"footnotes\" : [],\n",
    "                \"Locations\" : [],\n",
    "                \"Identities\" : [],\n",
    "                \"ChronologicalTable\" : [],\n",
    "                \"Birth\" : \"\",\n",
    "                \"Death\" : \"\",\n",
    "                \"BirthPlace\" : \"\",\n",
    "                \"Hometown\" : \"\"\n",
    "            }"
   ]
  },
  {
   "cell_type": "code",
   "execution_count": null,
   "metadata": {},
   "outputs": [],
   "source": [
    "# 清掉章節標題\n",
    "match = re.search(r'^(第\\w章)　(\\w+)$', text, flags=re.MULTILINE)\n",
    "if match: # 有可能沒有章節標題， 所以要先看有沒有找到\n",
    "    chapter_th = match[1]\n",
    "    category   = match[2]\n",
    "    text = text.replace(\"{}　{}\\n\".format(chapter_th, category), \"\")\n",
    "    text = text.replace(\"{}\\n{}\\n\".format(category, chapter_th), \"\")"
   ]
  },
  {
   "cell_type": "code",
   "execution_count": null,
   "metadata": {},
   "outputs": [],
   "source": [
    "print(text)"
   ]
  },
  {
   "cell_type": "code",
   "execution_count": null,
   "metadata": {},
   "outputs": [],
   "source": [
    "# 找出每條附註前面會有的小數字們\n",
    "footnote_indices = re.findall(r'\\n(\\d+) [^\\d][^\\d]', text)   "
   ]
  },
  {
   "cell_type": "code",
   "execution_count": null,
   "metadata": {},
   "outputs": [],
   "source": [
    "print(footnote_indices)"
   ]
  },
  {
   "cell_type": "code",
   "execution_count": null,
   "metadata": {},
   "outputs": [],
   "source": [
    "# 先依頁碼分成多個頁\n",
    "# 先依頁碼分成多個頁\n",
    "page_s = re.split(r'^\\d \\d \\d$', text, flags=re.MULTILINE)\n",
    "content_part_s = [] # 各頁的內文部分\n",
    "footnote_part_s = [] # 各頁的附註部分\n",
    "for page in page_s:\n",
    "    cut_at = math.inf # 內文和附註的切割點\n",
    "\n",
    "    # 利用附註小數字的格式找出本頁第一條附註位置\n",
    "    match = re.search(r'^\\d+ ', page , flags=re.MULTILINE)\n",
    "    if match:\n",
    "        mStart, mEnd = match.span()\n",
    "        cut_at = mStart\n",
    "\n",
    "    # 一條附註可能被斷到兩頁，則下一頁的附註一開始就是上一頁的附註的接續，沒有附註小數字\n",
    "    # 看附註結尾來辨識出在下一頁開頭的接續的附註(不是完全可靠)\n",
    "    match = re.search(r'^.+，(頁[\\d\\- ]+|第[\\d\\- ]+版)。$',page ,flags=re.MULTILINE)\n",
    "    if match:\n",
    "        mStart, mEnd = match.span()\n",
    "        cut_at = min(mStart, cut_at)\n",
    "\n",
    "    if cut_at is not math.inf:\n",
    "        content_part = page[:cut_at]\n",
    "        footnote_part = page[cut_at:]\n",
    "        content_part_s.append(content_part)\n",
    "        footnote_part_s.append(footnote_part)\n",
    "    else:\n",
    "        content_part_s.append(page)\n",
    "            \n",
    "content_text = \"\".join(content_part_s) # 把各頁的內文部分結合成內文 \n",
    "footnote_text = \"\".join(footnote_part_s) # 把各頁的附註部分結合成附註\n",
    "\n",
    "content = content_text\n",
    "footnote = footnote_text"
   ]
  },
  {
   "cell_type": "code",
   "execution_count": null,
   "metadata": {},
   "outputs": [],
   "source": [
    "print(content)\n",
    "print(\"--------------------------------------------------\")\n",
    "print(footnote)"
   ]
  },
  {
   "cell_type": "code",
   "execution_count": null,
   "metadata": {},
   "outputs": [],
   "source": [
    "# 第一種附註小數字出現的場合\n",
    "content = re.sub(name+' ?'+str(footnote_indices[0])+' ?（', \"{}（\".format(name),content , 1)\n",
    "# 第二種附註小數字出現的場合\n",
    "for index in footnote_indices[1:]:  \n",
    "    content = re.sub(\"([。，])\" + index, r'\\g<1>', content, count=1)"
   ]
  },
  {
   "cell_type": "code",
   "execution_count": null,
   "metadata": {},
   "outputs": [],
   "source": [
    "print(content)"
   ]
  },
  {
   "cell_type": "code",
   "execution_count": null,
   "metadata": {},
   "outputs": [],
   "source": [
    "# 清掉所有不需要的空格\n",
    "# 先把需要的空格轉成另一個字符記錄起來，清完空格再回復原狀\n",
    "content = re.sub(r'([a-zA-Z,）（]) ([a-zA-Z,）（])', '\\g<1>Ä\\g<2>', content)\n",
    "content = re.sub(r'(\\n\\d+) ', '\\g<1>Ä', content)\n",
    "content = content.replace(\" \",\"\")\n",
    "content = content.replace(\"Ä\", \" \")\n",
    "\n",
    "footnote = re.sub(r'([a-zA-Z,]) ([a-zA-Z,])', '\\g<1>Ä\\g<2>', footnote)\n",
    "footnote = re.sub(r'(\\n\\d+) ', '\\g<1>Ä', footnote)\n",
    "footnote = footnote.replace(\" \",\"\")\n",
    "footnote = footnote.replace(\"Ä\", \" \")"
   ]
  },
  {
   "cell_type": "code",
   "execution_count": null,
   "metadata": {},
   "outputs": [],
   "source": [
    "# 處理newline，內文分出段落\n",
    "\n",
    "# 因為句號後面換行的通常是一段落的結尾(但也可能不是)\n",
    "content = content.replace(\"。\\n\", \"Å\")\n",
    "content = content.replace(\"\\n\", \"\")\n",
    "content = content.replace(\"Å\", \"。\\n\\n\")\n",
    "\n",
    "footnote = footnote.replace(\"。\\n\", \"Å\")\n",
    "footnote = footnote.replace(\"\\n\", \"\")\n",
    "footnote = footnote.replace(\"Å\", \"。\\n\\n\")"
   ]
  },
  {
   "cell_type": "code",
   "execution_count": null,
   "metadata": {},
   "outputs": [],
   "source": [
    "print(content)\n",
    "print(\"--------------------------------------------------\")\n",
    "print(footnote)"
   ]
  },
  {
   "cell_type": "code",
   "execution_count": null,
   "metadata": {},
   "outputs": [],
   "source": [
    "footnote = footnote[:-2] # 去掉最後的兩個newline\n",
    "f_lines = footnote.split('\\n\\n') # 這樣最後就不會多一個空的split，各條附註分開\n",
    "biography[\"Footnotes\"] = list(map(lambda line: line.split(\" \"), f_lines)) # 把各條附註小數字和其註釋分開"
   ]
  },
  {
   "cell_type": "code",
   "execution_count": null,
   "metadata": {},
   "outputs": [],
   "source": [
    "biography[\"Footnotes\"]"
   ]
  },
  {
   "cell_type": "code",
   "execution_count": null,
   "metadata": {},
   "outputs": [],
   "source": [
    "# 從內文去掉傳記撰者，並保存在傳記資訊\n",
    "match = re.search(r'（([\\w、]+)撰寫?）', content, flags=re.MULTILINE) # $\n",
    "author_line = match[0]\n",
    "biography[\"Authors\"] = match[1].split(\"、\")\n",
    "content = content.replace(author_line, \"\")"
   ]
  },
  {
   "cell_type": "code",
   "execution_count": null,
   "metadata": {},
   "outputs": [],
   "source": [
    "print(biography[\"Authors\"])\n",
    "print(\"-------------------------------------------------\")\n",
    "print(content_text)"
   ]
  },
  {
   "cell_type": "code",
   "execution_count": null,
   "metadata": {},
   "outputs": [],
   "source": [
    "# 從內文去掉傳記標題，保存別名， 生日日期，死亡日期\n",
    "reg = name + \"（(.+，)?([\\d?.]*)-([\\d?.]*)）\"\n",
    "title = re.search(reg, content, flags=re.MULTILINE)\n",
    "if len(title.groups()) == 2:\n",
    "    biography[\"Birth\"] = title[1] # group1\n",
    "    biography[\"Death\"] = title[2] # group2\n",
    "else:\n",
    "    biography[\"Alias_s\"].append(title[1])\n",
    "    biography[\"Birth\"] = title[2]\n",
    "    biography[\"Death\"] = title[3]\n",
    "    \n",
    "content = content.replace(title[0], \"\") # replace Whole match with empty string"
   ]
  },
  {
   "cell_type": "code",
   "execution_count": null,
   "metadata": {},
   "outputs": [],
   "source": [
    "print(content)"
   ]
  },
  {
   "cell_type": "code",
   "execution_count": null,
   "metadata": {},
   "outputs": [],
   "source": []
  }
 ],
 "metadata": {
  "kernelspec": {
   "display_name": "Python 3",
   "language": "python",
   "name": "python3"
  },
  "language_info": {
   "codemirror_mode": {
    "name": "ipython",
    "version": 3
   },
   "file_extension": ".py",
   "mimetype": "text/x-python",
   "name": "python",
   "nbconvert_exporter": "python",
   "pygments_lexer": "ipython3",
   "version": "3.6.5"
  }
 },
 "nbformat": 4,
 "nbformat_minor": 2
}
